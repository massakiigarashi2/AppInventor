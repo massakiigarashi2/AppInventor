{
  "nbformat": 4,
  "nbformat_minor": 0,
  "metadata": {
    "colab": {
      "private_outputs": true,
      "provenance": [],
      "authorship_tag": "ABX9TyPxL/+ipAlT+14L2UKMGk8Y",
      "include_colab_link": true
    },
    "kernelspec": {
      "name": "python3",
      "display_name": "Python 3"
    },
    "language_info": {
      "name": "python"
    }
  },
  "cells": [
    {
      "cell_type": "markdown",
      "metadata": {
        "id": "view-in-github",
        "colab_type": "text"
      },
      "source": [
        "<a href=\"https://colab.research.google.com/github/massakiigarashi2/AppInventor/blob/main/LP02_INTRODU%C3%87%C3%83O_%C3%80_LINGUAGEM_DE_PROGRAMA%C3%87%C3%83O_Parte_1.ipynb\" target=\"_parent\"><img src=\"https://colab.research.google.com/assets/colab-badge.svg\" alt=\"Open In Colab\"/></a>"
      ]
    },
    {
      "cell_type": "markdown",
      "source": [
        "#**Na aula de hoje abordaremos:**\n",
        "> * **Definições e Conceitos básicos**\n",
        "  * Desenvolvimento de softwares\n",
        "  * Compiladores x Interpretadores\n",
        "* **Introdução à Linguagem de Programação Python em 5 Passos negrito**"
      ],
      "metadata": {
        "id": "PYuyDd3SGe6j"
      }
    },
    {
      "cell_type": "markdown",
      "source": [
        "#**00 - Definições e Conceitos básicos**\n",
        "\n",
        "> Bloco com recuo\n",
        "\n"
      ],
      "metadata": {
        "id": "5lQ41bdUsmWh"
      }
    },
    {
      "cell_type": "markdown",
      "source": [
        "#**00.1 - Desenvolvimento de software**\n",
        "O desenvolvimento de software refere-se a um conjunto de atividades de ciência da computação dedicadas ao processo de criação, design, implantação e suporte de software.\n",
        "\n",
        "O **software** em si é o conjunto de instruções ou programas que informam ao computador o que fazer. Existem basicamente 4 tipos de softwares:\n",
        "\n",
        "1.   **Software de sistema**: fornecem funções essenciais, como sistemas operacionais, gerenciamento de disco, utilitários, gerenciamento de hardware e outras necessidades operacionais.\n",
        "\n",
        "2.   **Software de programação**: fornecem aos programadores ferramentas como editores de texto, compiladores, vinculadores, depuradores e outras ferramentas para criar código.\n",
        "\n",
        "3.  **Software aplicativo**: ajudam os usuários a executar tarefas. Pacotes de produtividade de escritório, software de gerenciamento de dados, reprodutores de mídia e programas de segurança são exemplos. Aplicativos também se referem a aplicativos da Web e móveis, como os usados ​​para fazer compras na Amazon.com, socializar com o Facebook ou postar fotos no Instagram.\n",
        "\n",
        "4. Um quarto tipo possível é o **software emabarcado**. O software de sistemas embarcados é usado para controlar máquinas e dispositivos que normalmente não considerados sistemas microcontrolados mas também podem ser considerados computadores — redes de telecomunicações, carros, robôs industriais e muito mais. Esses dispositivos e seus softwares podem ser conectados como parte da  [Internet das Coisas - IoT](https://www.sciencedirect.com/science/article/pii/S1570870516303316?casa_token=SRK6Y3ob_uoAAAAA:lzTBXNEOdLsQSrYB0OYil3dTDW7Jj62ug7eOaSPbG646xZKda1xxVDT-poarRdYPUfe6qlVLjQ)."
      ],
      "metadata": {
        "id": "vJHCZ9jai2aX"
      }
    },
    {
      "cell_type": "markdown",
      "source": [
        "O desenvolvimento de software é conduzido principalmente por programadores, engenheiros de software e desenvolvedores de software, em geral. Essas funções interagem e se sobrepõem, e a dinâmica entre elas varia muito entre os departamentos de desenvolvimento e as comunidades.  \n",
        "\n",
        "Os programadores, ou codificadores , escrevem o código-fonte para programar computadores para tarefas específicas, como mesclar bancos de dados, processar pedidos on-line, rotear comunicações, realizar pesquisas ou exibir texto e gráficos. Os programadores normalmente interpretam instruções de desenvolvedores de software e engenheiros e usam linguagens de programação como C, C++, Java, Python, etc., para executá-las. Anualmente é publicado o ranking anual do [IEEE Spectrum](https://spectrum.ieee.org/top-programming-languages-2022), elencando as principais linguagens de programação. Nos últimos ranking a linguagem Python tem liderado o ranking.\n",
        "\n",
        "\n",
        "Segundo a IBM, os engenheiros de software aplicam princípios de engenharia para construir software e sistemas para resolver problemas. Eles usam a linguagem de modelagem e outras ferramentas para criar soluções que muitas vezes podem ser aplicadas a problemas de maneira geral, em vez de simplesmente resolver uma instância ou cliente específico. As soluções de engenharia de software aderem ao método científico e devem funcionar no mundo real, como em pontes ou elevadores. Sua responsabilidade cresceu à medida que os produtos se tornaram cada vez mais inteligentes com a adição de microprocessadores, sensores e software. Não apenas mais produtos dependem de software para diferenciação de mercado, mas seu desenvolvimento de software deve ser coordenado com o trabalho de desenvolvimento mecânico e elétrico do produto.\n",
        "\n",
        "Os desenvolvedores de software têm um papel menos formal do que os engenheiros e podem estar intimamente envolvidos com áreas específicas do projeto – incluindo escrever código. Ao mesmo tempo, eles conduzem o ciclo de vida geral do desenvolvimento de software — incluindo o trabalho entre equipes funcionais para transformar requisitos em recursos, gerenciamento de equipes e processos de desenvolvimento e realização de testes e manutenção de software.\n",
        "\n",
        "O trabalho de desenvolvimento de software não se limita a codificadores ou equipes de desenvolvimento. Profissionais como cientistas, fabricantes de dispositivos e fabricantes de hardware também criam código de software, embora não sejam principalmente desenvolvedores de software. Também não está confinado às indústrias tradicionais de tecnologia da informação, como empresas de software ou semicondutores. Na verdade, de acordo com o [Brookings Institute](https://www.brookings.edu/articles/which-industries-develop-software-all-of-them/), essas empresas “representam menos da metade das empresas que realizam desenvolvimento de software”.\n",
        "\n",
        "Uma distinção importante é o desenvolvimento de software personalizado em oposição ao desenvolvimento de software comercial. O desenvolvimento de software personalizado é o processo de projetar, criar, implantar e manter software para um conjunto específico de usuários, funções ou organizações. Em contraste, o software comercial pronto para uso (COTS) é projetado para um amplo conjunto de requisitos, permitindo que seja empacotado, comercializado e distribuído."
      ],
      "metadata": {
        "id": "bi7Oi258n7eD"
      }
    },
    {
      "cell_type": "markdown",
      "source": [
        "#**00.2 - Compiladores x Interpretadores**\n",
        "REsumidamente, todo programa é um conjunto de instruções, assim, compiladores e interpretadores recebem código legível por seres humanos e convertem-no para que a máquina seja capaz de executar taiz instruções (ou seja, convertem-no para código de máquina), legível pelo computador.\n",
        "\n",
        "Em uma linguagem compilada, a máquina de destino traduz o programa diretamente. Em uma linguagem interpretada, o código fonte não é traduzido diretamente pela máquina de destino. Em vez disso, um programa diferente, o interpretador, lê e executa o código.\n",
        "\n",
        "**Linguagens compiladas**\n",
        "As linguagens compiladas são convertidas diretamente na máquina em um código de máquina que o processador pode executar. Como resultado, elas tendem a ser mais rápidas e mais eficientes em sua execução do que as linguagens interpretadas. Elas também dão ao desenvolvedor mais controle sobre alguns aspectos do hardware, como o gerenciamento da memória e o uso da CPU.\n",
        "\n",
        "As linguagens compiladas necessitam de uma etapa de \"build\" (montagem) – elas precisam, primeiramente, ser compiladas manualmente. Você precisa \"remontar\" o programa sempre que precisar fazer uma alteração. Em nosso exemplo do molho, toda a tradução já está escrita antes de chegar até você. Se o autor original decidir usar um tipo diferente de óleo de oliva, a receita inteira precisaria ser traduzida novamente e reenviada a você.\n",
        "\n",
        "Exemplos de linguagens compiladas puras são o C, o C++, o Erlang, o Haskell, o Rust e o Go.\n",
        "\n",
        "**Linguagens interpretadas**\n",
        "Os interpretadores passam por um programa linha por linha e executam cada comando. Aqui, se o autor decidir que quer usar um tipo diferente de óleo de oliva, só precisaria remover o antigo e adicionar o novo. Seu amigo tradutor poderia informar isso a você quando a mudança acontecesse.\n",
        "\n",
        "Linguagens interpretadas, antigamente, eram significativamente mais lentas do que as linguagens compiladas. Porém, com o desenvolvimento da compilação just-in-time, essa distância vem diminuindo.\n",
        "\n",
        "Exemplos de linguagens interpretadas comuns são o PHP, o Ruby, o Python e o JavaScript.\n",
        "\n",
        "Um pequeno detalhe\n",
        "A maioria das linguagens de programação pode ter implementações compiladas e interpretadas – a linguagem em si não é necessariamente compilada ou interpretada. Porém, para fins de simplicidade, elas são normalmente referidas deste modo.\n",
        "\n",
        "Python, por exemplo, pode ser executado como um programa compilado ou como uma linguagem interpretada em modo interativo. Por outro lado, a maioria das ferramentas de linha de comando, ou CLIs, e shells podem, em teoria, ser classificadas como linguagens interpretadas.\n",
        "\n",
        "Vantagens e desvantagens\n",
        "Vantagens das linguagens compiladas\n",
        "Os programas compilados em código de máquina nativo tendem a ser mais rápidos que o código interpretado. Isso ocorre porque o processo de traduzir o código em tempo de execução aumenta o tempo do processo, podendo fazer com que o programa seja, em geral, mais lento.\n",
        "\n",
        "Desvantagens das linguagens compiladas\n",
        "As desvantagens mais notáveis são:\n",
        "\n",
        "Tempo adicional necessário para concluir toda a etapa de compilação antes dos testes\n",
        "Dependência da plataforma do código binário gerado\n",
        "Vantagens das linguagens interpretadas\n",
        "As linguagens interpretadas tendem a ser mais flexíveis, geralmente oferecendo recursos como digitação dinâmica e tamanho reduzido de programa. Além disso, como os interpretadores executam o código fonte do programa por conta própria, o código não depende da plataforma.\n",
        "\n",
        "Desvantagens das linguagens interpretadas\n",
        "A desvantagem mais notável é a velocidade típica de execução em comparação com as linguagens compiladas.\n",
        "\n",
        "\n"
      ],
      "metadata": {
        "id": "a6YpK4e4rVdK"
      }
    },
    {
      "cell_type": "markdown",
      "source": [
        "# **01 - Introdução à Linguagem de Programação**\n"
      ],
      "metadata": {
        "id": "MmUQa780se9z"
      }
    },
    {
      "cell_type": "markdown",
      "source": [
        "> Conforme definido, um software ou programa é um conjunto de instruções que informam ao computador o que fazer. Geralmente com o objetivo de realizar uma tarefa para facilitar a vida do usuário.\n",
        "Um programa de computador contém um **algoritmo** (ou seja, um **conjunto das regras e procedimentos lógicos perfeitamente definidos que levam à solução de um problema em um número finito de etapas**) e que pode ser uma representação de um sistema real, logo, um modelo que representa um sistema e a forma como ocorrem as modificações no mesmo."
      ],
      "metadata": {
        "id": "4ECaa8Pos4Vc"
      }
    },
    {
      "cell_type": "markdown",
      "source": [
        "#**Exemplo de Programa Python:**\n",
        "Pensemos no simples equação a seguir:\n",
        "y = ax + b, onde a = 2 e b = 1\n",
        "Logo,\n",
        "y = 2x + 1\n",
        "Assim:\n",
        "Se x = 0, y = 1\n",
        "Se x = 1, y = 3\n",
        "Se x = 2, y = 5\n",
        "\n",
        "Ou seja, acabamos de fazer referência à equação de uma reta e seu coeficiente angular (a) e conficiente linear (b). No colégio você aprendeu a realizar cálculos individuais e a desenhar a provável reta para determinada equação. Mas agora, você poderá evoluir no aprendizado e passar a criar um programa de computador que, a partir de um intervalo x de valores, possa calcular e desenhar todos os possíveis pontos que irão compor estar reta da respectiva equação."
      ],
      "metadata": {
        "id": "0ab_NO0gvoJs"
      }
    },
    {
      "cell_type": "code",
      "source": [
        "import matplotlib.pyplot as plt\n",
        "a = 2\n",
        "b = 1\n",
        "x = []\n",
        "y = []\n",
        "for i in range(11):\n",
        " x.append(i)\n",
        " y.append(a*i + b)\n",
        "print(x)\n",
        "print(y)\n",
        "plt.plot(x, y)\n",
        "plt.xlabel('x')\n",
        "plt.ylabel('y')\n",
        "plt.title('Gráfico de uma Reta')\n",
        "plt.grid(True)\n",
        "plt.show()\n",
        "\n",
        "#Neste exemplo, defini-se incialmente os dois parâmetros: a (coeficiente angular) e b (coeficiente linear) da equação da reta.\n",
        "#Em seguida, cria-se uma lista de valores x no intervalo de -0 a 10 e calcula-se os valores correspondentes de y usando a equação y = ax + b.\n",
        "#Em seguida, o gráfico é plotado usando plt.plot(x, y), e são adicionados rótulos aos eixos, um título e uma grade para facilitar a visualização.\n",
        "#No exemplo de uso, definimos a = 2 e b = 1 para criar uma reta com coeficiente angular 2 e coeficiente linear 1.\n",
        "#Você pode alterar esses valores para plotar diferentes retas.\n",
        "#Certifique-se de ter a biblioteca matplotlib instalada em seu ambiente Python para executar esse programa. Você também pode instalá-la usando o comando !pip install matplotlib.\n"
      ],
      "metadata": {
        "id": "OBlXLLv10q0M"
      },
      "execution_count": null,
      "outputs": []
    },
    {
      "cell_type": "code",
      "source": [
        "#O programa anterior também poderia ser escrito assim:\n",
        "\n",
        "import matplotlib.pyplot as plt\n",
        "\n",
        "def plot_reta(a, b):\n",
        "    x = range(11)  # Intervalo de x: 0 a 10\n",
        "    y = [a * i + b for i in x]  # Equação da reta: y = ax + b\n",
        "\n",
        "    plt.plot(x, y)\n",
        "    plt.xlabel('x')\n",
        "    plt.ylabel('y')\n",
        "    plt.title('Gráfico de uma Reta')\n",
        "    plt.grid(True)\n",
        "    plt.show()\n",
        "\n",
        "# Exemplo de uso:\n",
        "a = 2  # Coeficiente angular\n",
        "b = 1  # Coeficiente linear\n",
        "plot_reta(a, b)"
      ],
      "metadata": {
        "id": "XuYbst8Cznl9"
      },
      "execution_count": null,
      "outputs": []
    },
    {
      "cell_type": "markdown",
      "source": [
        "#**Agora que você já teve um primeiro contato com um programa de computador, vou apresentar a você os conceitos básicos para se iniciar a linguagem de programação Python atravês de um resumo em 5 passos:**"
      ],
      "metadata": {
        "id": "D3zrn9JN39Rg"
      }
    },
    {
      "cell_type": "markdown",
      "source": [
        "##**Passo 01: DEFINIR O INTERPRETADOR**\n",
        "O 1º passo para qualquer programador iniciar a tarefa de criar um programa de computador é definir qual será o compilador ou **integretador** a ser utilizado (lembre-se que no caso da linguagem Python você fará uso, exclusivamente, de INTERPRETADORES de código, neste caso, estamos usando o interpretador [GOOGLE COLABORATORY](https://colab.research.google.com/))"
      ],
      "metadata": {
        "id": "gvXg9D-G3hqp"
      }
    },
    {
      "cell_type": "markdown",
      "source": [
        "##**Passo 02: SAIBA CRIAR COMENTÁRIOS**\n",
        "Parece besteira, mas ao se iniciar com qualquer linguagem de programação, uma das premissas essenciais para qualquer programador é saber fazer comentários; isto permite duas importantes ações:\n",
        "* Documentar suas observações nos códigos explicando para que futuramente possa retornar e enteder o que fez;\n",
        "* Não perder o antigo código quando for fazer alguma modificação importante, deixando o código anterior como comentário de programa."
      ],
      "metadata": {
        "id": "JZFTJofP5C9b"
      }
    },
    {
      "cell_type": "markdown",
      "source": [
        "##**Passo 03: SAIBA IMPORTAR AS BIBLIOTECAS NECESSÁRIAS**\n",
        "No nosso primeiro exemplo acima você viu que usamos o comando ***import*** para importar uma biblioteca gráfica denominada matplotlib.pyplot:\n",
        "  **import matplotlib.pyplot as plt**\n",
        "\n",
        "Neste exemplo, nós importamos ela na forma de um objeto denominado plt, ao definirmos o objeto com a palavra ***as***.\n",
        "\n",
        "Para facilitar seu entendimento,\n",
        "isto faz com que o acesso à biblioteca  matplotlib.pyplot seja simplificado, assim, ao invés de ter que escrever todo o nome  matplotlib.pyplot, você passará a referir-se a ela simplesmente por plt. Este artifício usado na linguagem de programação python é muito importante; já que agiliza a escrita de códigos e é utilizado pela maioria dos programadores.\n",
        "\n",
        "Mas saiba que **a importação também pode ser ainda mais específica**, ao se difinir, inclusive, qual o método do objeto você que usar, assim usa-se a palavra ***from*** para informar o nome da biblioteca e, em seguida, usa-se a palavra ***import*** para definir qual o método a ser usado, veja o exmeplo:\n",
        "*from* matplotlib.pyplot *import* grid\n",
        "\n",
        " isto permitirá a você faça uso do método sem que seja necessário o nome da biblioteca junto. Veja o mesmo exemplo a seguir, onde eliminamos o uso de plt.grid(True) e passamos a usar apenas grid(True):"
      ],
      "metadata": {
        "id": "i2ExeKxd6yGT"
      }
    },
    {
      "cell_type": "code",
      "source": [
        "#O programa anterior também poderia ser escrito assim:\n",
        "\n",
        "import matplotlib.pyplot as plt\n",
        "from matplotlib.pyplot import grid\n",
        "a = 2\n",
        "b = 1\n",
        "x = []\n",
        "y = []\n",
        "for i in range(11):\n",
        " x.append(i)\n",
        " y.append(a*i + b)\n",
        "print(x)\n",
        "print(y)\n",
        "plt.plot(x, y)\n",
        "plt.xlabel('x')\n",
        "plt.ylabel('y')\n",
        "plt.title('Gráfico de uma Reta')\n",
        "grid(True) #Devido a importação específica podemos passar a usar simplesmente o método grid da biblioteca matplotlib.pyplot\n",
        "plt.show()"
      ],
      "metadata": {
        "id": "0XlJJ2tP8SpE"
      },
      "execution_count": null,
      "outputs": []
    },
    {
      "cell_type": "markdown",
      "source": [
        "##**Passo 04: SEMPRE IDENTAR CORRETAMENTE O PROGRAMA**\n",
        "Na programação de computadores , o ato de identar o programa (criar recuo) é uma convenção que governa o recuo de blocos de código para transmitir a estrutura e hierarquia do programa. A indentação não é uma obrigação da maioria das linguagens de programação, onde é usada como notação secundária. Mas na linguagem Python, ela tem uma função muito importante, podendo, inclusive, ser causa de erros de execução de muitos programas. Ao criar um looping para que a variável i crie valores contando de 0 até <11, ou seja, de 0 até 10, é preicso identar os comandos que você colocará dentro deste looping:\n"
      ],
      "metadata": {
        "id": "xJ9MaEEp-P2D"
      }
    },
    {
      "cell_type": "code",
      "source": [
        "for i in range(11):\n",
        " x.append(i) #observe que esta linha ficou com recuo de 1 TAB\n",
        " y.append(a*i + b) #observe que esta linha ficou com recuo de 1 TAB"
      ],
      "metadata": {
        "id": "wYsb6Mdw_qVy"
      },
      "execution_count": null,
      "outputs": []
    },
    {
      "cell_type": "markdown",
      "source": [
        "##**Passo 05: SALVANDO CÓPIA NO GIT HUB**\n",
        "**Antes, vamos entender o que é Git?**\n",
        "\n",
        "Git é um sistema de controle de versão popular. Foi criado por Linus Torvalds em 2005 e é mantido por Junio ​​Hamano desde então.\n",
        "\n",
        "**Funcionalidades:**\n",
        "* Alterações no código de rastreamento\n",
        "* Rastreando quem fez alterações\n",
        "* Codificação de colaboração\n",
        "\n",
        "[GitHub](https://github.com/signup?ref_cta=Sign+up&ref_loc=header+logged+out&ref_page=%2F&source=header-home) é uma plataforma que faz uso de git para hospedagem de código-fonte e arquivos com controle de versão usando o Git, hoje ela é mantida pela Microsoft desde 2018. Esta plataforma permite que programadores, utilitários ou qualquer usuário cadastrado na plataforma contribuam em projetos privados e/ou Open Source de qualquer lugar do mundo.\n",
        "\n",
        "**O github é ótimo para:**\n",
        "* Gerenciar projetos com repositórios\n",
        "* Clonar um projeto para trabalhar em uma cópia local\n",
        "* Controlar e rastrear alterações com Staging e Committed\n",
        "* Branch and Merge para permitir o trabalho em diferentes partes e versões de um projeto\n",
        "* Puxar a versão mais recente do projeto para uma cópia local\n",
        "* Enviar atualizações locais para o projeto principal\n",
        "\n",
        "**Por que Git?**\n",
        "A maioria dos desenvolvedores (>70%) usam o Git e, portanto, há um vasto material disponível e com código aberto!\n",
        "Os desenvolvedores podem trabalhar juntos de qualquer lugar do mundo.\n",
        "Os desenvolvedores podem ver o histórico completo do projeto e as anotações das versões.\n",
        "Os desenvolvedores podem reverter para versões anteriores de um projeto.\n",
        "\n",
        "**DICAS para trabalhar com GitHub:**\n",
        "Inicialize o Git em uma pasta, tornando-a um Repositório\n",
        "O Git agora cria uma pasta oculta para acompanhar as alterações nessa pasta\n",
        "Quando um arquivo é alterado, adicionado ou excluído, ele é considerado modificado\n",
        "Você seleciona os arquivos modificados que deseja Stage\n",
        "Os arquivos Staged são confirmados , o que solicita que o Git armazene um instantâneo permanente dos arquivos\n",
        "O Git permite que você veja o histórico completo de cada commit.\n",
        "Você pode reverter para qualquer confirmação anterior.\n",
        "O Git não armazena uma cópia separada de cada arquivo em cada commit, mas mantém o controle das mudanças feitas em cada commit!"
      ],
      "metadata": {
        "id": "ig4sag--BHh1"
      }
    },
    {
      "cell_type": "markdown",
      "source": [
        "# #**Exemplo 01**"
      ],
      "metadata": {
        "id": "Twg30FAzH5GO"
      }
    },
    {
      "cell_type": "code",
      "source": [
        "#ENTRADAS DO PROGRAMA\n",
        "a = input(\"Digite a:\")\n",
        "b = input(\"Digite b:\")\n",
        "#PROCESSAMENTO\n",
        "soma = int(a) + int(b)\n",
        "#SAÍDA NA TELA\n",
        "print(soma)"
      ],
      "metadata": {
        "id": "xCouyCK4H4V4"
      },
      "execution_count": null,
      "outputs": []
    },
    {
      "cell_type": "markdown",
      "source": [
        "#**Exemplo 02**"
      ],
      "metadata": {
        "id": "ZS43fM9RM4Fg"
      }
    },
    {
      "cell_type": "code",
      "source": [
        "#ENTRADAS DO PROGRAMA\n",
        "a = input(\"Digite a:\")\n",
        "b = input(\"Digite b:\")\n",
        "#PROCESSAMENTO\n",
        "soma = int(a) + int(b)\n",
        "subtracao = int(a) - int(b)\n",
        "multiplicacao = int(a) * int(b)\n",
        "divisao = int(a)/int(b)\n",
        "resto = int(a)%int(b)\n",
        "potencia = int(a)**int(b)\n",
        "#SAÍDA NA TELA\n",
        "print(\"Soma = \" + str(soma))\n",
        "print(\"Subtração = \" + str(subtracao))\n",
        "print(\"Multiplicação = \" + str(multiplicacao))\n",
        "print(\"Divisão = \" + str(divisao))\n",
        "print(\"Resto da divisao de a por b = \" + str(resto))\n",
        "print(\"a elevado a b = \" + str(potencia))"
      ],
      "metadata": {
        "id": "SaG1j1qRM7H4"
      },
      "execution_count": null,
      "outputs": []
    },
    {
      "cell_type": "markdown",
      "source": [
        "#**Referências Bibliográficas**\n",
        "[01](https://www.ibm.com/topics/software-development)\n",
        "\n",
        "[02](https://www.freecodecamp.org/portuguese/news/linguagens-de-programacao-interpretadas-x-compiladas-qual-e-a-diferenca/)\n",
        "\n",
        "[03](https://www.w3schools.com/git/git_intro.asp?remote=github)\n"
      ],
      "metadata": {
        "id": "eOa1aAw8iq5S"
      }
    }
  ]
}